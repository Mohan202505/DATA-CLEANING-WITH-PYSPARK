{
 "cells": [
  {
   "cell_type": "code",
   "execution_count": 1,
   "id": "e767d3d7-085b-43b8-9fab-66c7b3703d7c",
   "metadata": {},
   "outputs": [],
   "source": [
    "from pyspark.sql import SparkSession\n",
    "from pyspark.sql.functions import *"
   ]
  },
  {
   "cell_type": "code",
   "execution_count": 2,
   "id": "23f35fd9-2a5b-42e4-88c1-e1a3372af3d1",
   "metadata": {},
   "outputs": [],
   "source": [
    "spark=SparkSession.builder\\\n",
    "    .appName(\"Cleaning\")\\\n",
    "    .master(\"local[*]\")\\\n",
    "    .getOrCreate()"
   ]
  },
  {
   "cell_type": "code",
   "execution_count": 20,
   "id": "c00d9c09-548d-4193-8a38-55484a5271d7",
   "metadata": {},
   "outputs": [
    {
     "name": "stdout",
     "output_type": "stream",
     "text": [
      "+-------+---------------+---------------+------+------------+---------------+--------------------+-------------+--------------------+----------+------+---------+\n",
      "|trip_id|      starttime|       stoptime|bikeid|tripduration|from_station_id|   from_station_name|to_station_id|     to_station_name|  usertype|gender|birthyear|\n",
      "+-------+---------------+---------------+------+------------+---------------+--------------------+-------------+--------------------+----------+------+---------+\n",
      "|2355134|6/30/2014 23:57|  7/1/2014 0:07|  2006|         604|            131|Lincoln Ave & Bel...|          303|Broadway & Cornel...|Subscriber|  Male|     1988|\n",
      "|2355133|6/30/2014 23:56|  7/1/2014 0:00|  2217|         263|            282|Halsted St & Maxw...|           22|  May St & Taylor St|Subscriber|  Male|     1992|\n",
      "|2355130|6/30/2014 23:33|6/30/2014 23:35|  2798|         126|            327|Sheffield Ave & W...|          225|Halsted St & Dick...|Subscriber|  Male|     1993|\n",
      "|2355129|6/30/2014 23:26|  7/1/2014 0:24|   173|        3481|            134|Peoria St & Jacks...|          194|State St & Wacker Dr|Subscriber|Female|     1988|\n",
      "|2355128|6/30/2014 23:16|6/30/2014 23:26|   173|         638|            320|Loomis St & Lexin...|          134|Peoria St & Jacks...|Subscriber|Female|     1988|\n",
      "+-------+---------------+---------------+------+------------+---------------+--------------------+-------------+--------------------+----------+------+---------+\n",
      "only showing top 5 rows\n",
      "\n",
      "root\n",
      " |-- trip_id: integer (nullable = true)\n",
      " |-- starttime: string (nullable = true)\n",
      " |-- stoptime: string (nullable = true)\n",
      " |-- bikeid: integer (nullable = true)\n",
      " |-- tripduration: integer (nullable = true)\n",
      " |-- from_station_id: integer (nullable = true)\n",
      " |-- from_station_name: string (nullable = true)\n",
      " |-- to_station_id: integer (nullable = true)\n",
      " |-- to_station_name: string (nullable = true)\n",
      " |-- usertype: string (nullable = true)\n",
      " |-- gender: string (nullable = true)\n",
      " |-- birthyear: integer (nullable = true)\n",
      "\n"
     ]
    }
   ],
   "source": [
    "# Define the file path\n",
    "file_path = \"D:/OneDrive/Venkat.My_projects/manju_task/TASK_1/Divvy_Trips_2014_Q1Q2.csv\"\n",
    "\n",
    "df = spark.read.option(\"header\", True).option(\"inferSchema\", True).csv(file_path)\n",
    "\n",
    "# Display contents\n",
    "df.show(5)\n",
    "df.printSchema()"
   ]
  },
  {
   "cell_type": "code",
   "execution_count": 21,
   "id": "257d324a-b9fb-4275-bb51-f2c695c10d51",
   "metadata": {},
   "outputs": [
    {
     "name": "stdout",
     "output_type": "stream",
     "text": [
      "+-------+---------+--------+------+------------+---------------+-----------------+-------------+---------------+--------+------+---------+\n",
      "|trip_id|starttime|stoptime|bikeid|tripduration|from_station_id|from_station_name|to_station_id|to_station_name|usertype|gender|birthyear|\n",
      "+-------+---------+--------+------+------------+---------------+-----------------+-------------+---------------+--------+------+---------+\n",
      "|0      |0        |0       |0     |0           |0              |0                |0            |0              |0       |314022|313977   |\n",
      "+-------+---------+--------+------+------------+---------------+-----------------+-------------+---------------+--------+------+---------+\n",
      "\n"
     ]
    }
   ],
   "source": [
    "from pyspark.sql.functions import col, when, count, isnan\n",
    "\n",
    "# Separate numeric and non-numeric columns\n",
    "numeric_cols = [f.name for f in df.schema.fields if str(f.dataType) in ('DoubleType', 'IntegerType', 'LongType', 'FloatType')]\n",
    "\n",
    "# For numeric: check both isnan() and isNull()\n",
    "# For others: only check isNull()\n",
    "missing_counts = df.select([\n",
    "    count(when(isnan(c) | col(c).isNull(), c)).alias(c) if c in numeric_cols\n",
    "    else count(when(col(c).isNull(), c)).alias(c)\n",
    "    for c in df.columns\n",
    "])\n",
    "\n",
    "missing_counts.show(truncate=False)\n"
   ]
  },
  {
   "cell_type": "code",
   "execution_count": 23,
   "id": "1a9bbdfe-6e0d-40bc-9f72-63dece58bf54",
   "metadata": {},
   "outputs": [],
   "source": [
    "required_cols = [\"trip_id\", \"starttime\", \"stoptime\",\"tripduration\"]\n",
    "df_cleaned = df.dropna(subset=required_cols)\n"
   ]
  },
  {
   "cell_type": "code",
   "execution_count": 25,
   "id": "96da2c02-2b21-4110-84c9-64fbdd149f8a",
   "metadata": {},
   "outputs": [],
   "source": [
    "df_cleaned = df_cleaned.fillna({\n",
    "    \"usertype\": \"Unknown\",\n",
    "    \"gender\": \"Unknown\",\n",
    "    \"birthyear\": 0\n",
    "})\n"
   ]
  },
  {
   "cell_type": "code",
   "execution_count": 26,
   "id": "b456453e-1c5f-4f3f-ac84-81f2f45ce82e",
   "metadata": {},
   "outputs": [
    {
     "name": "stdout",
     "output_type": "stream",
     "text": [
      "Rows after removing duplicates and missing values: 905699\n"
     ]
    }
   ],
   "source": [
    "df_cleaned = df_cleaned.dropDuplicates()\n",
    "print(f\"Rows after removing duplicates and missing values: {df_cleaned.count()}\")\n"
   ]
  },
  {
   "cell_type": "code",
   "execution_count": 27,
   "id": "092c9c31-8b80-4bfa-9804-076df2a70fb9",
   "metadata": {},
   "outputs": [],
   "source": [
    "output=\"D:/OneDrive/Venkat.My_projects/manju_task/manju_cleaned_data\""
   ]
  },
  {
   "cell_type": "code",
   "execution_count": 28,
   "id": "0a9e07aa-d29e-48f1-a53b-09366d8e5e37",
   "metadata": {},
   "outputs": [
    {
     "name": "stdout",
     "output_type": "stream",
     "text": [
      "✅ Cleaned CSV saved at: D:/OneDrive/Venkat.My_projects/manju_task/manju_cleaned_data\n"
     ]
    }
   ],
   "source": [
    "df_cleaned.coalesce(1).write.mode(\"overwrite\").option(\"header\", True).csv(output)\n",
    "print(\"✅ Cleaned CSV saved at:\", output)"
   ]
  },
  {
   "cell_type": "code",
   "execution_count": null,
   "id": "98dd86d0-0f75-4fd5-961a-f16a2dfdb423",
   "metadata": {},
   "outputs": [],
   "source": []
  }
 ],
 "metadata": {
  "kernelspec": {
   "display_name": "Python 3 (ipykernel)",
   "language": "python",
   "name": "python3"
  },
  "language_info": {
   "codemirror_mode": {
    "name": "ipython",
    "version": 3
   },
   "file_extension": ".py",
   "mimetype": "text/x-python",
   "name": "python",
   "nbconvert_exporter": "python",
   "pygments_lexer": "ipython3",
   "version": "3.12.7"
  }
 },
 "nbformat": 4,
 "nbformat_minor": 5
}
